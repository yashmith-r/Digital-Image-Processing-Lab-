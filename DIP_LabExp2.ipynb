{
  "nbformat": 4,
  "nbformat_minor": 0,
  "metadata": {
    "colab": {
      "provenance": [],
      "authorship_tag": "ABX9TyOJIu1Rt2L2WoGbKKejFoZB",
      "include_colab_link": true
    },
    "kernelspec": {
      "name": "python3",
      "display_name": "Python 3"
    },
    "language_info": {
      "name": "python"
    }
  },
  "cells": [
    {
      "cell_type": "markdown",
      "metadata": {
        "id": "view-in-github",
        "colab_type": "text"
      },
      "source": [
        "<a href=\"https://colab.research.google.com/github/yashmith-r/Digital-Image-Processing-Lab-/blob/main/DIP_LabExp2.ipynb\" target=\"_parent\"><img src=\"https://colab.research.google.com/assets/colab-badge.svg\" alt=\"Open In Colab\"/></a>"
      ]
    },
    {
      "cell_type": "markdown",
      "source": [
        "# ***Yashmith Raj - AP21110011218***"
      ],
      "metadata": {
        "id": "VaYsvBu_CepZ"
      }
    },
    {
      "cell_type": "code",
      "execution_count": null,
      "metadata": {
        "id": "RUXmCBehCMqr"
      },
      "outputs": [],
      "source": [
        "#Digital Image Processing Lab - 2\n",
        "\n",
        "#Create black and white images (A) of size 1024x1024. Which consists of alternative horizontal\n",
        "#lines of black and white? Each line is of size 128.\n",
        "#Create black and white images (B) of size 1024x1024. Which consists of alternative vertical lines of\n",
        "#black and white? Each line is of size128. Perform the following operations on\n",
        "#Image A and Image B.\n",
        "\n",
        "#a. Image addition of A and B\n",
        "\n",
        "#b. Subtraction of A and B\n",
        "\n",
        "#c. Multiplying Images of A and B\n",
        "\n",
        "#d. Create a grayscale image of size 256 x 1024. intensity of image should vary sinusoidally.\n",
        "\n",
        "#e. Create a white image of size 256x256, with black box of size 58x58 at centre."
      ]
    },
    {
      "cell_type": "code",
      "source": [
        "#___________________________________________________________________________________________________________________________________________\n",
        "from PIL import Image\n",
        "import numpy as np\n",
        "import matplotlib.pyplot as plt"
      ],
      "metadata": {
        "id": "4u9W5K2sEVOb"
      },
      "execution_count": null,
      "outputs": []
    },
    {
      "cell_type": "code",
      "source": [
        "#Horizontal Image\n",
        "imgA = np.zeros((1024, 1024), dtype=np.uint8)\n",
        "for i in range(0, 1024, 128):\n",
        "    if (i // 128) % 2 == 0:\n",
        "        imgA[i:i+128, :] = 255\n",
        "\n",
        "imggA = Image.fromarray(imgA)\n",
        "plt.imshow(imggA, cmap='gray')\n",
        "plt.axis('off')\n",
        "plt.show()"
      ],
      "metadata": {
        "colab": {
          "base_uri": "https://localhost:8080/",
          "height": 406
        },
        "id": "anK9SR9iMBbs",
        "outputId": "8ca5044e-9aa1-4c2b-dd33-9c3cbc9038f5"
      },
      "execution_count": null,
      "outputs": [
        {
          "output_type": "display_data",
          "data": {
            "text/plain": [
              "<Figure size 640x480 with 1 Axes>"
            ],
            "image/png": "[encoded data removed]"
          },
          "metadata": {}
        }
      ]
    },
    {
      "cell_type": "code",
      "source": [
        "#Vertical Image\n",
        "imgB = np.zeros((1024, 1024), dtype=np.uint8)\n",
        "for i in range(0, 1024, 128):\n",
        "    if (i // 128) % 2 == 0:\n",
        "        imgB[:, i:i+128] = 255\n",
        "\n",
        "imggB = Image.fromarray(imgB)\n",
        "plt.imshow(imggB, cmap='gray')\n",
        "plt.axis('off')\n",
        "plt.show()"
      ],
      "metadata": {
        "colab": {
          "base_uri": "https://localhost:8080/",
          "height": 406
        },
        "id": "dEn0nVu2MI0z",
        "outputId": "265e512c-4fc4-4313-ce0b-2f8c23f2e7f3"
      },
      "execution_count": null,
      "outputs": [
        {
          "output_type": "display_data",
          "data": {
            "text/plain": [
              "<Figure size 640x480 with 1 Axes>"
            ],
            "image/png": "[encoded data removed]"
          },
          "metadata": {}
        }
      ]
    },
    {
      "cell_type": "code",
      "source": [
        "#Image Addition\n",
        "np_imgA = np.array(imgA)\n",
        "np_imgB = np.array(imgB)\n",
        "add_img = np.clip(np_imgA + np_imgB, 0, 255)\n",
        "\n",
        "add_img = Image.fromarray(add_img)\n",
        "plt.imshow(add_img, cmap='gray')\n",
        "plt.axis('off')\n",
        "plt.show()"
      ],
      "metadata": {
        "colab": {
          "base_uri": "https://localhost:8080/",
          "height": 406
        },
        "id": "-JA-MRwoNF0P",
        "outputId": "2875f7ab-7f4d-4405-ba7a-5750397edce3"
      },
      "execution_count": null,
      "outputs": [
        {
          "output_type": "display_data",
          "data": {
            "text/plain": [
              "<Figure size 640x480 with 1 Axes>"
            ],
            "image/png": "[encoded data removed]"
          },
          "metadata": {}
        }
      ]
    },
    {
      "cell_type": "code",
      "source": [
        "#__________________________________________________________________________________________________________________________________\n",
        "#Image subtraction\n",
        "np_imgA = np.array(imgA)\n",
        "np_imgB = np.array(imgB)\n",
        "add_img = np.clip(np_imgA - np_imgB, 0, 255)\n",
        "\n",
        "sub_img = Image.fromarray(add_img)\n",
        "plt.imshow(sub_img, cmap='gray')\n",
        "plt.axis('off')\n",
        "plt.show()"
      ],
      "metadata": {
        "colab": {
          "base_uri": "https://localhost:8080/",
          "height": 406
        },
        "id": "ig8ItVCBNj_D",
        "outputId": "4ebe758c-f2db-469d-b9a7-38c58ee816aa"
      },
      "execution_count": null,
      "outputs": [
        {
          "output_type": "display_data",
          "data": {
            "text/plain": [
              "<Figure size 640x480 with 1 Axes>"
            ],
            "image/png": "[encoded data removed]"
          },
          "metadata": {}
        }
      ]
    },
    {
      "cell_type": "code",
      "source": [
        "#__________________________________________________________________________________________________________________________________________\n",
        "#Image Multiplication\n",
        "np_imgA = np.array(imgA)\n",
        "np_imgB = np.array(imgB)\n",
        "add_img = np.clip(np_imgA * np_imgB, 0, 255)\n",
        "\n",
        "mul_img = Image.fromarray(add_img)\n",
        "plt.imshow(mul_img, cmap='gray')\n",
        "plt.axis('off')\n",
        "plt.show()"
      ],
      "metadata": {
        "colab": {
          "base_uri": "https://localhost:8080/",
          "height": 406
        },
        "id": "Ed2X3i7ONqhW",
        "outputId": "bf8125db-1e8f-4b01-c2b5-07471dfac42c"
      },
      "execution_count": null,
      "outputs": [
        {
          "output_type": "display_data",
          "data": {
            "text/plain": [
              "<Figure size 640x480 with 1 Axes>"
            ],
            "image/png": "[encoded data removed]"
          },
          "metadata": {}
        }
      ]
    },
    {
      "cell_type": "code",
      "source": [
        "#_____________________________________________________________________________________________________________________________________________________\n",
        "#Intensity of image should vary sinusoidally\n",
        "height = 256\n",
        "width = 1024\n",
        "\n",
        "x = np.linspace(0, 2 * np.pi, width)\n",
        "y = np.sin(x)\n",
        "\n",
        "y_normalized = ((y + 1) / 2) * 255\n",
        "\n",
        "image_array = np.tile(y_normalized, (height, 1)).astype(np.uint8)\n",
        "sinusoidal_image = Image.fromarray(image_array)\n",
        "\n",
        "\n",
        "plt.imshow(sinusoidal_image, cmap='gray')\n",
        "plt.axis('off')\n",
        "plt.show()"
      ],
      "metadata": {
        "colab": {
          "base_uri": "https://localhost:8080/",
          "height": 161
        },
        "id": "IzcI-l6gOJFX",
        "outputId": "003835e5-0b22-45e9-d973-0a6f59adc585"
      },
      "execution_count": null,
      "outputs": [
        {
          "output_type": "display_data",
          "data": {
            "text/plain": [
              "<Figure size 640x480 with 1 Axes>"
            ],
            "image/png": "[encoded data removed]"
          },
          "metadata": {}
        }
      ]
    },
    {
      "cell_type": "code",
      "source": [
        "#___________________________________________________________________________________________________\n",
        "image_size = 256\n",
        "box_size = 58\n",
        "\n",
        "img = np.ones((image_size, image_size), dtype=np.uint8) * 255\n",
        "\n",
        "start_x = (image_size - box_size) // 2\n",
        "start_y = (image_size - box_size) // 2\n",
        "\n",
        "img[start_y:start_y + box_size, start_x:start_x + box_size] = 0\n",
        "centered_box_image = Image.fromarray(img)\n",
        "\n",
        "plt.imshow(centered_box_image, cmap='gray')\n",
        "plt.axis('off')\n",
        "plt.show()"
      ],
      "metadata": {
        "colab": {
          "base_uri": "https://localhost:8080/",
          "height": 406
        },
        "id": "5F8zILxDP1iy",
        "outputId": "43641be5-06e0-436d-ae5a-53c29013aacc"
      },
      "execution_count": null,
      "outputs": [
        {
          "output_type": "display_data",
          "data": {
            "text/plain": [
              "<Figure size 640x480 with 1 Axes>"
            ],
            "image/png": "[encoded data removed]"
          },
          "metadata": {}
        }
      ]
    }
  ]
}